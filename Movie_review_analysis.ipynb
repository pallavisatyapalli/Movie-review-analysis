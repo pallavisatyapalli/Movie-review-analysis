{
  "nbformat": 4,
  "nbformat_minor": 0,
  "metadata": {
    "colab": {
      "provenance": []
    },
    "kernelspec": {
      "name": "python3",
      "display_name": "Python 3"
    },
    "language_info": {
      "name": "python"
    }
  },
  "cells": [
    {
      "cell_type": "code",
      "execution_count": null,
      "metadata": {
        "colab": {
          "base_uri": "https://localhost:8080/"
        },
        "id": "Bo2ggA5FWxEB",
        "outputId": "58ec0bbf-7206-42d6-aeed-11b428b3811c"
      },
      "outputs": [
        {
          "output_type": "stream",
          "name": "stdout",
          "text": [
            "Requirement already satisfied: nltk in /usr/local/lib/python3.11/dist-packages (3.9.1)\n",
            "Requirement already satisfied: click in /usr/local/lib/python3.11/dist-packages (from nltk) (8.2.1)\n",
            "Requirement already satisfied: joblib in /usr/local/lib/python3.11/dist-packages (from nltk) (1.5.1)\n",
            "Requirement already satisfied: regex>=2021.8.3 in /usr/local/lib/python3.11/dist-packages (from nltk) (2024.11.6)\n",
            "Requirement already satisfied: tqdm in /usr/local/lib/python3.11/dist-packages (from nltk) (4.67.1)\n"
          ]
        },
        {
          "output_type": "stream",
          "name": "stderr",
          "text": [
            "[nltk_data] Downloading package movie_reviews to /root/nltk_data...\n",
            "[nltk_data]   Unzipping corpora/movie_reviews.zip.\n"
          ]
        },
        {
          "output_type": "stream",
          "name": "stdout",
          "text": [
            "Test Accuracy: 0.832\n"
          ]
        }
      ],
      "source": [
        "!pip install nltk\n",
        "import nltk\n",
        "nltk.download('movie_reviews')\n",
        "from nltk.corpus import movie_reviews\n",
        "import random\n",
        "import nltk\n",
        "from sklearn.feature_extraction.text import CountVectorizer\n",
        "from sklearn.naive_bayes import MultinomialNB\n",
        "from sklearn.pipeline import make_pipeline\n",
        "\n",
        "docs = [(movie_reviews.raw(fileid), category)\n",
        "        for category in movie_reviews.categories()\n",
        "        for fileid in movie_reviews.fileids(category)]\n",
        "\n",
        "random.shuffle(docs)\n",
        "texts, labels = zip(*docs)\n",
        "\n",
        "# Split\n",
        "train_texts = texts[:1500]\n",
        "train_labels = labels[:1500]\n",
        "test_texts = texts[1500:]\n",
        "test_labels = labels[1500:]\n",
        "\n",
        "# Vectorize and train\n",
        "model = make_pipeline(CountVectorizer(), MultinomialNB())\n",
        "model.fit(train_texts, train_labels)\n",
        "\n",
        "print(\"Test Accuracy:\", model.score(test_texts, test_labels))\n"
      ]
    },
    {
      "cell_type": "code",
      "source": [
        "model.predict([\"This movie was fantastic! The acting was brilliant.\"])"
      ],
      "metadata": {
        "colab": {
          "base_uri": "https://localhost:8080/"
        },
        "id": "i9oMmcv5XAR6",
        "outputId": "ffd7451b-eb72-4404-d13e-e3cf624106ef"
      },
      "execution_count": null,
      "outputs": [
        {
          "output_type": "execute_result",
          "data": {
            "text/plain": [
              "array(['pos'], dtype='<U3')"
            ]
          },
          "metadata": {},
          "execution_count": 3
        }
      ]
    },
    {
      "cell_type": "code",
      "source": [
        "model.predict([\"I hated the film. It was boring and too long.\"])"
      ],
      "metadata": {
        "colab": {
          "base_uri": "https://localhost:8080/"
        },
        "id": "2XMdTRzYXE4p",
        "outputId": "808b7be3-d42a-493a-ce52-ea8831e7bd36"
      },
      "execution_count": null,
      "outputs": [
        {
          "output_type": "execute_result",
          "data": {
            "text/plain": [
              "array(['neg'], dtype='<U3')"
            ]
          },
          "metadata": {},
          "execution_count": 4
        }
      ]
    }
  ]
}